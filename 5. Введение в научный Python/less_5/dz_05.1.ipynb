{
 "cells": [
  {
   "cell_type": "code",
   "execution_count": 3,
   "metadata": {},
   "outputs": [],
   "source": [
    "%matplotlib inline\n",
    "import numpy as np"
   ]
  },
  {
   "cell_type": "code",
   "execution_count": 31,
   "metadata": {},
   "outputs": [
    {
     "name": "stdout",
     "output_type": "stream",
     "text": [
      "26\n",
      "0.36474661517378415\n"
     ]
    }
   ],
   "source": [
    "print(np.random.randint(0,36))\n",
    "print(np.random.uniform(0,1))"
   ]
  },
  {
   "cell_type": "code",
   "execution_count": 29,
   "metadata": {},
   "outputs": [
    {
     "name": "stdout",
     "output_type": "stream",
     "text": [
      "\n",
      "15 - красное\n",
      "\n",
      "2 - красное\n",
      "\n",
      "32 - красное\n",
      "\n",
      "26 - красное\n",
      "\n",
      "19 - красное\n"
     ]
    }
   ],
   "source": [
    "for i in range(0, 5):\n",
    "    a = input()\n",
    "    zero = 1/37\n",
    "    x = np.random.uniform(0, 1)\n",
    "    num = np.random.randint(0,36)\n",
    "    if x<18/37:\n",
    "        print(f\"{num} - черное\")\n",
    "    elif x>18/37:\n",
    "        print(f\"{num} - красное\")\n",
    "    elif x <=(1-36/37):\n",
    "        print('Zero')"
   ]
  }
 ],
 "metadata": {
  "kernelspec": {
   "display_name": "Python 3",
   "language": "python",
   "name": "python3"
  },
  "language_info": {
   "codemirror_mode": {
    "name": "ipython",
    "version": 3
   },
   "file_extension": ".py",
   "mimetype": "text/x-python",
   "name": "python",
   "nbconvert_exporter": "python",
   "pygments_lexer": "ipython3",
   "version": "3.7.4"
  }
 },
 "nbformat": 4,
 "nbformat_minor": 2
}
