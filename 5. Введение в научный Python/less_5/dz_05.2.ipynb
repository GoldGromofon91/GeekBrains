{
 "cells": [
  {
   "cell_type": "code",
   "execution_count": 1,
   "metadata": {},
   "outputs": [],
   "source": [
    "%matplotlib inline\n",
    "import numpy as np\n",
    "import matplotlib.pyplot as plt\n",
    "import matplotlib.mlab as mlab"
   ]
  },
  {
   "cell_type": "code",
   "execution_count": 2,
   "metadata": {},
   "outputs": [
    {
     "name": "stdout",
     "output_type": "stream",
     "text": [
      "Теорема доказана, вероятность равна: 1.0\n"
     ]
    }
   ],
   "source": [
    "teor_sum = 0\n",
    "p_num = 1/37\n",
    "for i in range(37):\n",
    "    teor_sum +=p_num\n",
    "    \n",
    "if round(teor_sum,2) ==1:\n",
    "    print(f'Теорема доказана, вероятность равна: {round(teor_sum,2)}')"
   ]
  },
  {
   "cell_type": "code",
   "execution_count": 3,
   "metadata": {},
   "outputs": [
    {
     "data": {
      "text/plain": [
       "array([0.31401138, 0.58047895, 0.65697838, 0.26082656, 0.72121085,\n",
       "       0.25775598, 0.01978422, 0.58020979, 0.30229047, 0.42732075])"
      ]
     },
     "execution_count": 3,
     "metadata": {},
     "output_type": "execute_result"
    }
   ],
   "source": [
    "np.random.rand(10)"
   ]
  },
  {
   "cell_type": "code",
   "execution_count": 4,
   "metadata": {},
   "outputs": [
    {
     "data": {
      "text/plain": [
       "Text(0.5, 1.0, 'Histogram')"
      ]
     },
     "execution_count": 4,
     "metadata": {},
     "output_type": "execute_result"
    },
    {
     "data": {
      "image/png": "[encoded data removed]",
      "text/plain": [
       "<Figure size 432x288 with 1 Axes>"
      ]
     },
     "metadata": {
      "needs_background": "light"
     },
     "output_type": "display_data"
    }
   ],
   "source": [
    "x1=np.random.rand(10)\n",
    "x2=np.random.rand(10)\n",
    "x3=np.random.rand(10)\n",
    "x4=np.random.rand(10)\n",
    "x5=np.random.rand(10)\n",
    "x6=np.random.rand(10)\n",
    "x7=np.random.rand(10)\n",
    "x8=np.random.rand(10)\n",
    "x9=np.random.rand(10)\n",
    "x10=np.random.rand(10)\n",
    "\n",
    "summa = [sum(x1),sum(x2),sum(x3),sum(x4),sum(x5),sum(x6),sum(x7),sum(x8),sum(x9),sum(x10)]\n",
    "# print(summa)\n",
    "\n",
    "x = summa\n",
    "num_bins = 10\n",
    "n, bins, patches = plt.hist(x, num_bins)\n",
    "plt.xlabel('x')\n",
    "plt.ylabel('Probability')\n",
    "plt.title('Histogram')"
   ]
  },
  {
   "cell_type": "code",
   "execution_count": null,
   "metadata": {},
   "outputs": [],
   "source": []
  }
 ],
 "metadata": {
  "kernelspec": {
   "display_name": "Python 3",
   "language": "python",
   "name": "python3"
  },
  "language_info": {
   "codemirror_mode": {
    "name": "ipython",
    "version": 3
   },
   "file_extension": ".py",
   "mimetype": "text/x-python",
   "name": "python",
   "nbconvert_exporter": "python",
   "pygments_lexer": "ipython3",
   "version": "3.7.4"
  }
 },
 "nbformat": 4,
 "nbformat_minor": 2
}
