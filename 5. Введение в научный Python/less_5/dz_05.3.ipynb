{
 "cells": [
  {
   "cell_type": "code",
   "execution_count": 6,
   "metadata": {},
   "outputs": [],
   "source": [
    "import numpy as np\n",
    "import itertools, math"
   ]
  },
  {
   "cell_type": "code",
   "execution_count": 25,
   "metadata": {},
   "outputs": [
    {
     "name": "stdout",
     "output_type": "stream",
     "text": [
      "Количество успехов:23361, Количество испытаний: 100000, Вероятность успеха: 0.23361\n",
      "--------------------------------------------------------------------------------\n",
      "Вероятность выпадения 2-х успехов на 4-х испытаниях\n",
      "--------------------------------------------------------------------------------\n",
      "Коэффициент С: 15.0\n",
      "Вероятность двух успехов из 4-х испытаний:0.234375\n"
     ]
    }
   ],
   "source": [
    "k, n = 0, 100000\n",
    "a = np.random.randint(0, 2, n)\n",
    "b = np.random.randint(0, 2, n)\n",
    "c = np.random.randint(0, 2, n)\n",
    "d = np.random.randint(0, 2, n)\n",
    "e = np.random.randint(0, 2, n)\n",
    "f = np.random.randint(0, 2, n)\n",
    "x = a + b + c + d + e + f\n",
    "for i in range(0, n):\n",
    "    if x[i] == 2:\n",
    "        k = k + 1\n",
    "\n",
    "print(f'Количество успехов:{k}, Количество испытаний: {n}, Вероятность успеха: {k/n}')\n",
    "print('-'*80)\n",
    "print('Вероятность выпадения 2-х успехов на 4-х испытаниях')\n",
    "print('-'*80)\n",
    "count = 6\n",
    "success = 2\n",
    "koef_bern = math.factorial(count)/( math.factorial(success)* math.factorial(count - success))\n",
    "print(f'Коэффициент С: {koef_bern}')\n",
    "form_bern = koef_bern * 1/pow(2,count)\n",
    "print(f'Вероятность двух успехов из 4-х испытаний:{form_bern}')\n"
   ]
  }
 ],
 "metadata": {
  "kernelspec": {
   "display_name": "Python 3",
   "language": "python",
   "name": "python3"
  },
  "language_info": {
   "codemirror_mode": {
    "name": "ipython",
    "version": 3
   },
   "file_extension": ".py",
   "mimetype": "text/x-python",
   "name": "python",
   "nbconvert_exporter": "python",
   "pygments_lexer": "ipython3",
   "version": "3.7.4"
  }
 },
 "nbformat": 4,
 "nbformat_minor": 2
}
