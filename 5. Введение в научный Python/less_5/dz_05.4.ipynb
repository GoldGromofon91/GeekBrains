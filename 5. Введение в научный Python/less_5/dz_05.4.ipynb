{
 "cells": [
  {
   "cell_type": "code",
   "execution_count": 1,
   "metadata": {},
   "outputs": [],
   "source": [
    "import numpy as np\n",
    "import itertools"
   ]
  },
  {
   "cell_type": "code",
   "execution_count": 14,
   "metadata": {},
   "outputs": [
    {
     "name": "stdout",
     "output_type": "stream",
     "text": [
      "1235\n",
      "1253\n",
      "1325\n",
      "1352\n",
      "1523\n",
      "1532\n",
      "2135\n",
      "2153\n",
      "2315\n",
      "2351\n",
      "2513\n",
      "2531\n",
      "3125\n",
      "3152\n",
      "3215\n",
      "3251\n",
      "3512\n",
      "3521\n",
      "5123\n",
      "5132\n",
      "5213\n",
      "5231\n",
      "5312\n",
      "5321\n"
     ]
    }
   ],
   "source": [
    "for p in itertools.permutations(\"1235\",4):\n",
    "    print(''.join(str(x) for x in p))"
   ]
  },
  {
   "cell_type": "code",
   "execution_count": 19,
   "metadata": {},
   "outputs": [
    {
     "name": "stdout",
     "output_type": "stream",
     "text": [
      "00\n",
      "01\n",
      "02\n",
      "10\n",
      "11\n",
      "12\n",
      "20\n",
      "21\n",
      "22\n"
     ]
    }
   ],
   "source": [
    "for p in itertools.product(\"012\",repeat=2):\n",
    "    print(''.join(p))  "
   ]
  },
  {
   "cell_type": "code",
   "execution_count": 23,
   "metadata": {},
   "outputs": [
    {
     "name": "stdout",
     "output_type": "stream",
     "text": [
      "012\n",
      "013\n",
      "023\n",
      "123\n"
     ]
    }
   ],
   "source": [
    "for p in itertools.combinations(\"0123\",3):\n",
    "    print(''.join(p))"
   ]
  },
  {
   "cell_type": "code",
   "execution_count": null,
   "metadata": {},
   "outputs": [],
   "source": []
  }
 ],
 "metadata": {
  "kernelspec": {
   "display_name": "Python 3",
   "language": "python",
   "name": "python3"
  },
  "language_info": {
   "codemirror_mode": {
    "name": "ipython",
    "version": 3
   },
   "file_extension": ".py",
   "mimetype": "text/x-python",
   "name": "python",
   "nbconvert_exporter": "python",
   "pygments_lexer": "ipython3",
   "version": "3.7.4"
  }
 },
 "nbformat": 4,
 "nbformat_minor": 2
}
