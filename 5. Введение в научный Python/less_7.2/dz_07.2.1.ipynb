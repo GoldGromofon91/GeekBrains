{
 "cells": [
  {
   "cell_type": "code",
   "execution_count": 1,
   "metadata": {},
   "outputs": [],
   "source": [
    "import numpy as np"
   ]
  },
  {
   "cell_type": "code",
   "execution_count": 13,
   "metadata": {},
   "outputs": [
    {
     "name": "stdout",
     "output_type": "stream",
     "text": [
      "Матрица переменнх А:\n",
      "[[1 2 3]\n",
      " [4 0 6]\n",
      " [7 8 9]]\n",
      "Вектор коеффициентов С:\n",
      "[12  2  1]\n",
      "Корни уравнений: -9.2,0.9,6.47\n"
     ]
    }
   ],
   "source": [
    "matr_a = np.array([[1,2,3],[4,0,6],[7,8,9]])\n",
    "print(f'Матрица переменнх А:\\n{matr_a}')\n",
    "vec_ans = np.array([12,2,1])\n",
    "print(f'Вектор коеффициентов С:\\n{vec_ans}')\n",
    "mat_roots = np.linalg.solve(matr_a,vec_ans)\n",
    "print(f'Корни уравнений: {round(mat_roots[0],2)},{round(mat_roots[1],2)},{round(mat_roots[2],2)}')\n"
   ]
  },
  {
   "cell_type": "code",
   "execution_count": 16,
   "metadata": {},
   "outputs": [
    {
     "name": "stdout",
     "output_type": "stream",
     "text": [
      "Матрица переменнх А:\n",
      "[[1 2 3]\n",
      " [4 0 6]\n",
      " [7 8 9]]\n",
      "Вектор коеффициентов С:\n",
      "[12  2  1]\n",
      "det = 59.999999999999986\n",
      "Корни уравнений:\n",
      "[-9.2         0.9         6.46666667]\n"
     ]
    }
   ],
   "source": [
    "print(f'Матрица переменнх А:\\n{matr_a}')\n",
    "vec_ans = np.array([12,2,1])\n",
    "print(f'Вектор коеффициентов С:\\n{vec_ans}')\n",
    "inv_a = np.linalg.inv(matr_a)\n",
    "det_a = np.linalg.det(matr_a)\n",
    "res = np.dot(inv_a,vec_ans)\n",
    "print(f'det =', det_a)\n",
    "print(f'Корни уравнений:\\n{res}')"
   ]
  },
  {
   "cell_type": "code",
   "execution_count": null,
   "metadata": {},
   "outputs": [],
   "source": []
  }
 ],
 "metadata": {
  "kernelspec": {
   "display_name": "Python 3",
   "language": "python",
   "name": "python3"
  },
  "language_info": {
   "codemirror_mode": {
    "name": "ipython",
    "version": 3
   },
   "file_extension": ".py",
   "mimetype": "text/x-python",
   "name": "python",
   "nbconvert_exporter": "python",
   "pygments_lexer": "ipython3",
   "version": "3.7.4"
  }
 },
 "nbformat": 4,
 "nbformat_minor": 2
}
