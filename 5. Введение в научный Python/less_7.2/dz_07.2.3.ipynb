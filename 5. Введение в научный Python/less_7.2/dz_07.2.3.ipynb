{
 "cells": [
  {
   "cell_type": "code",
   "execution_count": 2,
   "metadata": {},
   "outputs": [],
   "source": [
    "import numpy as np"
   ]
  },
  {
   "cell_type": "code",
   "execution_count": 29,
   "metadata": {},
   "outputs": [
    {
     "name": "stdout",
     "output_type": "stream",
     "text": [
      "Матрица переменнх А:\n",
      "[[1 2 3]\n",
      " [4 5 6]\n",
      " [7 8 9]]\n",
      "Вектор коеффициентов B:\n",
      "[[0 0 0]]\n",
      "det = -0.0\n",
      "Ранг матрицы: 2\n",
      "[[1 2 3 0]\n",
      " [4 5 6 0]\n",
      " [7 8 9 0]]\n",
      "Ранг расширенной матрицы: 2\n",
      "У системы уравнений есть бесконечное множетсво решений\n"
     ]
    }
   ],
   "source": [
    "mat_a = np.array([[1,2,3],[4,5,6],[7,8,9]])\n",
    "print(f'Матрица переменнх А:\\n{mat_a}')\n",
    "# mat_b = np.array([[2,5,1]])\n",
    "mat_b = np.array([[0,0,0]]) # ответ если вектор B[0,0,0] у системы есть решения\n",
    "print(f'Вектор коеффициентов B:\\n{mat_b}')\n",
    "det_a = np.linalg.det(mat_a)\n",
    "print(f'det =', round(det_a,2))\n",
    "rang1 = np.linalg.matrix_rank(mat_a)\n",
    "print(f'Ранг матрицы: {rang1}')\n",
    "C = np.concatenate((mat_a,mat_b.T), axis=1)\n",
    "print(C)\n",
    "rang2 = np.linalg.matrix_rank(C)\n",
    "print(f'Ранг расширенной матрицы: {rang2}')\n",
    "if not rang1==rang2:\n",
    "    print('Система уравнений является несовместной')\n",
    "else:\n",
    "    print('У системы уравнений есть бесконечное множество решений')"
   ]
  },
  {
   "cell_type": "code",
   "execution_count": null,
   "metadata": {},
   "outputs": [],
   "source": []
  }
 ],
 "metadata": {
  "kernelspec": {
   "display_name": "Python 3",
   "language": "python",
   "name": "python3"
  },
  "language_info": {
   "codemirror_mode": {
    "name": "ipython",
    "version": 3
   },
   "file_extension": ".py",
   "mimetype": "text/x-python",
   "name": "python",
   "nbconvert_exporter": "python",
   "pygments_lexer": "ipython3",
   "version": "3.7.4"
  }
 },
 "nbformat": 4,
 "nbformat_minor": 2
}
