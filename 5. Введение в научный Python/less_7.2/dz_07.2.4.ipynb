{
 "cells": [
  {
   "cell_type": "code",
   "execution_count": 1,
   "metadata": {},
   "outputs": [],
   "source": [
    "import numpy as np \n",
    "import matplotlib.pyplot as plt\n",
    "import scipy \n",
    "import scipy.linalg  "
   ]
  },
  {
   "cell_type": "code",
   "execution_count": 2,
   "metadata": {},
   "outputs": [
    {
     "name": "stdout",
     "output_type": "stream",
     "text": [
      "P=\n",
      " [[0. 0. 1.]\n",
      " [0. 1. 0.]\n",
      " [1. 0. 0.]]\n",
      "L=\n",
      " [[1.    0.    0.   ]\n",
      " [0.5   1.    0.   ]\n",
      " [0.25  0.625 1.   ]]\n",
      "U=\n",
      " [[  4.      28.      73.    ]\n",
      " [  0.      -8.     -15.5   ]\n",
      " [  0.       0.      -5.5625]]\n"
     ]
    }
   ],
   "source": [
    "A = np.array([[1,2,3],[2,6,21],[4,28,73]])\n",
    "P, L, U = scipy.linalg.lu(A)\n",
    "print('P=\\n', P)\n",
    "print('L=\\n', L)\n",
    "print('U=\\n',U)"
   ]
  },
  {
   "cell_type": "code",
   "execution_count": 5,
   "metadata": {},
   "outputs": [
    {
     "name": "stdout",
     "output_type": "stream",
     "text": [
      "Корни решения уравнений: [ 0.75       -0.125      -1.25842697]\n"
     ]
    }
   ],
   "source": [
    "B = np.array([3,1,7])\n",
    "C = L * U\n",
    "res = np.linalg.solve(C, B)\n",
    "print(f'Корни решения уравнений: {res}')"
   ]
  },
  {
   "cell_type": "code",
   "execution_count": null,
   "metadata": {},
   "outputs": [],
   "source": []
  }
 ],
 "metadata": {
  "kernelspec": {
   "display_name": "Python 3",
   "language": "python",
   "name": "python3"
  },
  "language_info": {
   "codemirror_mode": {
    "name": "ipython",
    "version": 3
   },
   "file_extension": ".py",
   "mimetype": "text/x-python",
   "name": "python",
   "nbconvert_exporter": "python",
   "pygments_lexer": "ipython3",
   "version": "3.7.4"
  }
 },
 "nbformat": 4,
 "nbformat_minor": 2
}
