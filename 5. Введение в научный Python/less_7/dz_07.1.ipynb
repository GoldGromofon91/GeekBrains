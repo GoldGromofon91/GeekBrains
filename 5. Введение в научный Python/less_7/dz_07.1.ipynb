{
 "cells": [
  {
   "cell_type": "code",
   "execution_count": 20,
   "metadata": {},
   "outputs": [],
   "source": [
    "import numpy as np"
   ]
  },
  {
   "cell_type": "code",
   "execution_count": 21,
   "metadata": {},
   "outputs": [],
   "source": [
    "# mat_A = np.array([[1,2,3],[4,5,6],[7,8,9,],[10,11,12]],int)\n",
    "# print(mat_A)"
   ]
  },
  {
   "cell_type": "code",
   "execution_count": 22,
   "metadata": {},
   "outputs": [],
   "source": [
    "# print(mat_A.shape) # количество строк и столбцов-->размерность матрицы"
   ]
  },
  {
   "cell_type": "code",
   "execution_count": 23,
   "metadata": {},
   "outputs": [],
   "source": [
    "# mat_C = mat_A * 2\n",
    "# print(mat_C)"
   ]
  },
  {
   "cell_type": "code",
   "execution_count": 24,
   "metadata": {},
   "outputs": [],
   "source": [
    "# mat_Sum = mat_A + mat_C\n",
    "# print(mat_Sum)"
   ]
  },
  {
   "cell_type": "code",
   "execution_count": 19,
   "metadata": {},
   "outputs": [
    {
     "name": "stdout",
     "output_type": "stream",
     "text": [
      "[[1 2 3 4 5]]\n",
      " \n",
      "Транспонированная матрица:\n",
      "[[ 6]\n",
      " [ 7]\n",
      " [ 8]\n",
      " [ 9]\n",
      " [-1]]\n",
      "Произведение типа А*C: \n",
      "[[ 6 12 18 24 30]\n",
      " [ 7 14 21 28 35]\n",
      " [ 8 16 24 32 40]\n",
      " [ 9 18 27 36 45]\n",
      " [-1 -2 -3 -4 -5]]\n"
     ]
    }
   ],
   "source": [
    "vec_A = np.array([[1,2,3,4,5]])\n",
    "vec_B = np.array([[6,7,8,9,-1]])\n",
    "vec_C = vec_B.transpose()\n",
    "print(vec_A)\n",
    "print(\" \")\n",
    "print(f'Транспонированная матрица:\\n{vec_C}')\n",
    "print(f'Произведение типа А*C: \\n{vec_A * vec_C}')"
   ]
  },
  {
   "cell_type": "code",
   "execution_count": 26,
   "metadata": {},
   "outputs": [
    {
     "name": "stdout",
     "output_type": "stream",
     "text": [
      "Единичная матрциа 5х5:\n",
      "[[1 0 0 0 0]\n",
      " [0 1 0 0 0]\n",
      " [0 0 1 0 0]\n",
      " [0 0 0 1 0]\n",
      " [0 0 0 0 1]]\n"
     ]
    }
   ],
   "source": [
    "#Условие (5Е) - 1, где E - единичная матрица\n",
    "mat_E = np.array([[1,0,0,0,0],[0,1,0,0,0],[0,0,1,0,0],[0,0,0,1,0],[0,0,0,0,1]])\n",
    "print(f'Единичная матрциа 5х5:\\n{mat_E}')"
   ]
  },
  {
   "cell_type": "code",
   "execution_count": 27,
   "metadata": {},
   "outputs": [
    {
     "name": "stdout",
     "output_type": "stream",
     "text": [
      "[[5 0 0 0 0]\n",
      " [0 5 0 0 0]\n",
      " [0 0 5 0 0]\n",
      " [0 0 0 5 0]\n",
      " [0 0 0 0 5]]\n"
     ]
    }
   ],
   "source": [
    "mat_Mut = 5*mat_E\n",
    "print(mat_Mut)"
   ]
  },
  {
   "cell_type": "code",
   "execution_count": 29,
   "metadata": {},
   "outputs": [
    {
     "name": "stdout",
     "output_type": "stream",
     "text": [
      "Матрица соответсвующая условию \"5E - 1\": \n",
      "[[ 4 -1 -1 -1 -1]\n",
      " [-1  4 -1 -1 -1]\n",
      " [-1 -1  4 -1 -1]\n",
      " [-1 -1 -1  4 -1]\n",
      " [-1 -1 -1 -1  4]]\n"
     ]
    }
   ],
   "source": [
    "mat_Res = mat_Mut - 1\n",
    "print(f'Матрица соответсвующая условию \"5E - 1\": \\n{mat_Res}')"
   ]
  },
  {
   "cell_type": "code",
   "execution_count": null,
   "metadata": {},
   "outputs": [],
   "source": []
  }
 ],
 "metadata": {
  "kernelspec": {
   "display_name": "Python 3",
   "language": "python",
   "name": "python3"
  },
  "language_info": {
   "codemirror_mode": {
    "name": "ipython",
    "version": 3
   },
   "file_extension": ".py",
   "mimetype": "text/x-python",
   "name": "python",
   "nbconvert_exporter": "python",
   "pygments_lexer": "ipython3",
   "version": "3.7.4"
  }
 },
 "nbformat": 4,
 "nbformat_minor": 2
}
