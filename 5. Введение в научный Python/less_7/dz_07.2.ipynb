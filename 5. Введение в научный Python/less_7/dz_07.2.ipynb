{
 "cells": [
  {
   "cell_type": "code",
   "execution_count": 1,
   "metadata": {},
   "outputs": [],
   "source": [
    "import numpy as np"
   ]
  },
  {
   "cell_type": "code",
   "execution_count": 2,
   "metadata": {},
   "outputs": [
    {
     "name": "stdout",
     "output_type": "stream",
     "text": [
      "[[1 2 3]\n",
      " [4 0 6]\n",
      " [7 8 9]]\n"
     ]
    }
   ],
   "source": [
    "mat_A = np.array([[1,2,3],[4,0,6],[7,8,9]])\n",
    "print(mat_A)"
   ]
  },
  {
   "cell_type": "code",
   "execution_count": 4,
   "metadata": {},
   "outputs": [
    {
     "name": "stdout",
     "output_type": "stream",
     "text": [
      "Определитель матрицы равен: 60\n",
      "Определитель матрица через numpy:59.999999999999986\n"
     ]
    }
   ],
   "source": [
    "det_A = 1*(0*9 - 6*8) - 2*(4*9 - 6*7) + 3*(4*8 - 0*7)\n",
    "deter_A = np.linalg.det(mat_A)\n",
    "print(f'Определитель матрицы равен: {det_A}\\nОпределитель матрицы через numpy:{deter_A}')"
   ]
  }
 ],
 "metadata": {
  "kernelspec": {
   "display_name": "Python 3",
   "language": "python",
   "name": "python3"
  },
  "language_info": {
   "codemirror_mode": {
    "name": "ipython",
    "version": 3
   },
   "file_extension": ".py",
   "mimetype": "text/x-python",
   "name": "python",
   "nbconvert_exporter": "python",
   "pygments_lexer": "ipython3",
   "version": "3.7.4"
  }
 },
 "nbformat": 4,
 "nbformat_minor": 2
}
