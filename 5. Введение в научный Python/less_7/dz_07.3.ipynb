{
 "cells": [
  {
   "cell_type": "code",
   "execution_count": 4,
   "metadata": {},
   "outputs": [],
   "source": [
    "import numpy as np"
   ]
  },
  {
   "cell_type": "code",
   "execution_count": 15,
   "metadata": {},
   "outputs": [
    {
     "name": "stdout",
     "output_type": "stream",
     "text": [
      "[[1 2 3]\n",
      " [4 0 6]\n",
      " [7 8 9]]\n",
      "Определитель матрицы: 60, 59.999999999999986\n",
      "Матрица обратная с помощью numpy:\n",
      "[[-0.8         0.1         0.2       ]\n",
      " [ 0.1        -0.2         0.1       ]\n",
      " [ 0.53333333  0.1        -0.13333333]]\n"
     ]
    }
   ],
   "source": [
    "mat_A = np.array([[1,2,3],[4,0,6],[7,8,9]])\n",
    "print(mat_A)\n",
    "det_A = 1*(0*9 - 8*6) - 2*(4*9 - 7*6) + 3*(4*8 - 7*0)\n",
    "deter_A = np.linalg.det(mat_A)\n",
    "print(f'Определитель матрицы: {det_A}, {deter_A}')\n",
    "inv_A = np.linalg.inv(mat_A)\n",
    "print(f'Матрица обратная с помощью numpy:\\n{inv_A}')"
   ]
  },
  {
   "cell_type": "code",
   "execution_count": 6,
   "metadata": {},
   "outputs": [
    {
     "name": "stdout",
     "output_type": "stream",
     "text": [
      "Матрица миноров:\n",
      "[[-48  -6  32]\n",
      " [ -6 -12  -6]\n",
      " [ 12  -6  -8]]\n"
     ]
    }
   ],
   "source": [
    "minor_A=mat_A[:]\n",
    "minor_A[0,0] = (0*9)-(8*6)\n",
    "minor_A[0,1] = (4*9)-(7*6)\n",
    "minor_A[0,2] = (4*8)-(7*0)\n",
    "minor_A[1,0] = (2*9)-(8*3)\n",
    "minor_A[1,1] = (1*9)-(7*3)\n",
    "minor_A[1,2] = (1*8)-(7*2)\n",
    "minor_A[2,0] = (2*6)-(0*3)\n",
    "minor_A[2,1] = (1*6)-(4*3)\n",
    "minor_A[2,2] = (1*0)-(4*2)\n",
    "print(f'Матрица миноров:\\n{minor_A}')"
   ]
  },
  {
   "cell_type": "code",
   "execution_count": 7,
   "metadata": {},
   "outputs": [
    {
     "name": "stdout",
     "output_type": "stream",
     "text": [
      "Матрица алгебраических дополнений:\n",
      "[[-48   6  32]\n",
      " [  6 -12   6]\n",
      " [ 12   6  -8]]\n"
     ]
    }
   ],
   "source": [
    "mat_alg_dop = minor_A[:]\n",
    "mat_alg_dop[0,1] = - mat_alg_dop[0,1]\n",
    "mat_alg_dop[1,0], mat_alg_dop[1,2] = - mat_alg_dop[1,0], - mat_alg_dop[1,2]\n",
    "mat_alg_dop[2,1] = - mat_alg_dop[2,1]\n",
    "print(f'Матрица алгебраических дополнений:\\n{mat_alg_dop}')"
   ]
  },
  {
   "cell_type": "code",
   "execution_count": 8,
   "metadata": {},
   "outputs": [
    {
     "name": "stdout",
     "output_type": "stream",
     "text": [
      "Транспонированная матрица алгебраических дополнений:\n",
      "[[-48   6  12]\n",
      " [  6 -12   6]\n",
      " [ 32   6  -8]]\n"
     ]
    }
   ],
   "source": [
    "trans_mat = mat_alg_dop.transpose()\n",
    "print(f'Транспонированная матрица алгебраических дополнений:\\n{trans_mat}')"
   ]
  },
  {
   "cell_type": "code",
   "execution_count": 13,
   "metadata": {},
   "outputs": [
    {
     "name": "stdout",
     "output_type": "stream",
     "text": [
      "Обратная матрица:\n",
      "[[-0.8         0.1         0.2       ]\n",
      " [ 0.1        -0.2         0.1       ]\n",
      " [ 0.53333333  0.1        -0.13333333]]\n"
     ]
    }
   ],
   "source": [
    "res_matrix = trans_mat / det_A\n",
    "print(f'Обратная матрица:\\n{res_matrix}')"
   ]
  },
  {
   "cell_type": "code",
   "execution_count": 4,
   "metadata": {},
   "outputs": [
    {
     "name": "stdout",
     "output_type": "stream",
     "text": [
      "Матрица размером 4 на 4 с рангом 1:\n",
      "[[0 0 0 0]\n",
      " [0 0 1 0]\n",
      " [0 0 0 0]\n",
      " [0 0 0 0]]\n"
     ]
    }
   ],
   "source": [
    "matrix = np.array([[0,0,0,0],[0,0,1,0],[0,0,0,0],[0,0,0,0]])\n",
    "print(f'Матрица размером 4 на 4 с рангом 1:\\n{matrix}')  "
   ]
  },
  {
   "cell_type": "code",
   "execution_count": 7,
   "metadata": {},
   "outputs": [
    {
     "name": "stdout",
     "output_type": "stream",
     "text": [
      "1\n"
     ]
    }
   ],
   "source": [
    "rang = np.linalg.matrix_rank(matrix,0)\n",
    "print(rang)"
   ]
  },
  {
   "cell_type": "code",
   "execution_count": null,
   "metadata": {},
   "outputs": [],
   "source": []
  }
 ],
 "metadata": {
  "kernelspec": {
   "display_name": "Python 3",
   "language": "python",
   "name": "python3"
  },
  "language_info": {
   "codemirror_mode": {
    "name": "ipython",
    "version": 3
   },
   "file_extension": ".py",
   "mimetype": "text/x-python",
   "name": "python",
   "nbconvert_exporter": "python",
   "pygments_lexer": "ipython3",
   "version": "3.7.4"
  }
 },
 "nbformat": 4,
 "nbformat_minor": 2
}
