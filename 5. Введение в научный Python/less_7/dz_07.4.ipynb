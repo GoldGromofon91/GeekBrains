{
 "cells": [
  {
   "cell_type": "code",
   "execution_count": 16,
   "metadata": {},
   "outputs": [],
   "source": [
    "%matplotlib inline\n",
    "import numpy as np\n",
    "import matplotlib.pyplot as plt"
   ]
  },
  {
   "cell_type": "code",
   "execution_count": 30,
   "metadata": {},
   "outputs": [
    {
     "name": "stdout",
     "output_type": "stream",
     "text": [
      "Результат: 42\n"
     ]
    }
   ],
   "source": [
    "vec_a = np.array([1,5])\n",
    "vec_b = np.array([2,8])\n",
    "vec_res = np.inner(vec_a,vec_b)\n",
    "print(f'Результат: {vec_res}')"
   ]
  },
  {
   "cell_type": "code",
   "execution_count": 31,
   "metadata": {},
   "outputs": [
    {
     "name": "stdout",
     "output_type": "stream",
     "text": [
      "Результат:\n",
      "0.9988681377244377\n"
     ]
    }
   ],
   "source": [
    "s = np.inner(vec_a, vec_b)\n",
    "res = s/(np.linalg.norm(vec_a)*np.linalg.norm(vec_b))\n",
    "print(f'Результат:\\n{res}')"
   ]
  },
  {
   "cell_type": "code",
   "execution_count": 32,
   "metadata": {},
   "outputs": [
    {
     "data": {
      "image/png": "[encoded data removed]",
      "text/plain": [
       "<Figure size 432x288 with 1 Axes>"
      ]
     },
     "metadata": {
      "needs_background": "light"
     },
     "output_type": "display_data"
    }
   ],
   "source": [
    "X, Y = np.array([0, 0]), np.array([0, 0])\n",
    "U, V = np.array([vec_a[0], vec_b[0]]), np.array([vec_a[1], vec_b[1]])\n",
    "\n",
    "plt.quiver(X,Y,U, V, angles='xy', scale_units='xy',scale=1)\n",
    "\n",
    "plt.xlim(-5, 10)\n",
    "plt.ylim(-2, 10)\n",
    "plt.grid(True)\n",
    "plt.show()"
   ]
  },
  {
   "cell_type": "code",
   "execution_count": null,
   "metadata": {},
   "outputs": [],
   "source": []
  }
 ],
 "metadata": {
  "kernelspec": {
   "display_name": "Python 3",
   "language": "python",
   "name": "python3"
  },
  "language_info": {
   "codemirror_mode": {
    "name": "ipython",
    "version": 3
   },
   "file_extension": ".py",
   "mimetype": "text/x-python",
   "name": "python",
   "nbconvert_exporter": "python",
   "pygments_lexer": "ipython3",
   "version": "3.7.4"
  }
 },
 "nbformat": 4,
 "nbformat_minor": 2
}
